{
  "cells": [
    {
      "cell_type": "markdown",
      "metadata": {
        "id": "view-in-github",
        "colab_type": "text"
      },
      "source": [
        "<a href=\"https://colab.research.google.com/github/Anu0705/Data-Science-Projects-in-Python-R/blob/main/nndl_project(A).ipynb\" target=\"_parent\"><img src=\"https://colab.research.google.com/assets/colab-badge.svg\" alt=\"Open In Colab\"/></a>"
      ]
    },
    {
      "cell_type": "code",
      "execution_count": null,
      "metadata": {
        "colab": {
          "base_uri": "https://localhost:8080/"
        },
        "id": "0iLn6AWYyuKE",
        "outputId": "5995b83e-32b7-476c-f3c2-62d910796b78"
      },
      "outputs": [
        {
          "output_type": "stream",
          "name": "stdout",
          "text": [
            "Drive already mounted at /content/drive; to attempt to forcibly remount, call drive.mount(\"/content/drive\", force_remount=True).\n"
          ]
        }
      ],
      "source": [
        "from google.colab import drive\n",
        "drive.mount('/content/drive')"
      ]
    },
    {
      "cell_type": "code",
      "execution_count": null,
      "metadata": {
        "colab": {
          "base_uri": "https://localhost:8080/"
        },
        "id": "j7TMgN7efkdb",
        "outputId": "5dd5e142-c39c-4150-ccd2-070195ee7f08"
      },
      "outputs": [
        {
          "output_type": "stream",
          "name": "stdout",
          "text": [
            "260\n"
          ]
        }
      ],
      "source": [
        "import cv2\n",
        "import numpy\n",
        "import glob\n",
        "\n",
        "from keras.preprocessing import image\n",
        "from keras.applications.vgg16 import VGG16\n",
        "from keras.applications.vgg16 import preprocess_input\n",
        "from tensorflow.keras.utils import load_img, img_to_array\n",
        "\n",
        "path = glob.glob(\"/content/drive/MyDrive/NN DL Project/dataset/train1/*\")\n",
        "imagenames_list = []\n",
        "image_labels = []\n",
        "for folder in path:\n",
        "  for f in glob.glob(folder+\"/*.jpg\"):\n",
        "    image_labels.append(folder[-1])\n",
        "    imagenames_list.append(f)\n",
        "\n",
        "print(len(imagenames_list))\n",
        "\n",
        "read_images = []     \n",
        "i = 0   \n",
        "for image in imagenames_list:\n",
        "  i += 1\n",
        " \n",
        "  read_images.append(load_img(image,color_mode='rgb', target_size=(224, 224)))"
      ]
    },
    {
      "cell_type": "code",
      "execution_count": null,
      "metadata": {
        "id": "uXWH4v9i8Aq1"
      },
      "outputs": [],
      "source": [
        "# prepare x_train and y_train\n",
        "\n",
        "import tensorflow as tf\n",
        "image_data = []\n",
        "for i in range(len(read_images)):\n",
        "  img_data = tf.keras.utils.img_to_array(read_images[i])\n",
        "  # img_data = np.expand_dims(img_data, axis = 0)\n",
        "  img_data = preprocess_input(img_data)\n",
        "\n",
        "  image_data.append(img_data)\n",
        "\n",
        "x_train = numpy.asarray(image_data)\n",
        "\n",
        "\n",
        "y_train = []\n",
        "for i in range(len(image_labels)):\n",
        "  y = ord(image_labels[i]) - 65\n",
        "  y_train.append(y)\n",
        "\n",
        "y_train = tf.keras.utils.to_categorical(y_train, num_classes=26)"
      ]
    },
    {
      "cell_type": "code",
      "execution_count": null,
      "metadata": {
        "id": "eQ0qtMg-VMP8"
      },
      "outputs": [],
      "source": [
        "# # split train and test\n",
        "\n",
        "# from sklearn.model_selection import train_test_split\n",
        "\n",
        "# x_train, x_test, y_train, y_test = train_test_split(x_train, y_train, test_size=0.3, random_state=42)"
      ]
    },
    {
      "cell_type": "code",
      "execution_count": null,
      "metadata": {
        "id": "KixXOjBzNUkc"
      },
      "outputs": [],
      "source": [
        "# len(x_test)"
      ]
    },
    {
      "cell_type": "code",
      "execution_count": null,
      "metadata": {
        "colab": {
          "base_uri": "https://localhost:8080/",
          "height": 324
        },
        "id": "c_RbQzs_9aaW",
        "outputId": "b6ee078e-2da6-4ed4-83d6-359df07dabdb"
      },
      "outputs": [
        {
          "output_type": "stream",
          "name": "stderr",
          "text": [
            "WARNING:matplotlib.image:Clipping input data to the valid range for imshow with RGB data ([0..1] for floats or [0..255] for integers).\n"
          ]
        },
        {
          "output_type": "execute_result",
          "data": {
            "text/plain": [
              "<matplotlib.image.AxesImage at 0x7f3a112e7520>"
            ]
          },
          "metadata": {},
          "execution_count": 6
        },
        {
          "output_type": "display_data",
          "data": {
            "text/plain": [
              "<Figure size 432x288 with 1 Axes>"
            ],
            "image/png": "[encoded data removed]"
          },
          "metadata": {
            "needs_background": "light"
          }
        }
      ],
      "source": [
        "import matplotlib.pyplot as plt\n",
        "plt.imshow(image_data[0])"
      ]
    },
    {
      "cell_type": "code",
      "execution_count": null,
      "metadata": {
        "id": "Lf_rFmp_jAPR"
      },
      "outputs": [],
      "source": [
        "# add additional layers to the base model\n",
        "\n",
        "CLASSES = 26\n",
        "from tensorflow.python.keras import Sequential\n",
        "from tensorflow.python.keras.layers import Dense, Flatten\n",
        "from keras import layers, models\n",
        "\n",
        "def get_model(base_model):\n",
        "  \n",
        "  model = models.Sequential()\n",
        "  model.add(base_model)\n",
        "  model.add(layers.Flatten())\n",
        "  model.add(layers.Dense(4096))  \n",
        "  model.add(layers.Dense(CLASSES, activation='softmax'))\n",
        "\n",
        "  model.compile(\n",
        "    loss='categorical_crossentropy',\n",
        "    optimizer='adam',\n",
        "    metrics=['accuracy'])\n",
        "  \n",
        "  return model"
      ]
    },
    {
      "cell_type": "code",
      "execution_count": null,
      "metadata": {
        "id": "-dBDCE26jESY"
      },
      "outputs": [],
      "source": [
        "# base model VGG1, Trained on ASL, Initialized with ImageNet\n",
        "\n",
        "IMG_SIZE = (224,224)\n",
        "\n",
        "base_model_vgg1 = VGG16(\n",
        "    weights='imagenet', \n",
        "    include_top=False, \n",
        "    input_shape=(224,224,3)\n",
        ")\n",
        "\n",
        "for layer in base_model_vgg1.layers:\n",
        "  layer.trainable = True\n",
        "\n",
        "cascade_model_1a = get_model(base_model_vgg1)"
      ]
    },
    {
      "cell_type": "code",
      "source": [
        "# cascade_model_1a.layers[0].get_weights()"
      ],
      "metadata": {
        "id": "uOX3bK4W1ST9"
      },
      "execution_count": null,
      "outputs": []
    },
    {
      "cell_type": "code",
      "execution_count": null,
      "metadata": {
        "colab": {
          "base_uri": "https://localhost:8080/"
        },
        "id": "2JCpgAILjJBW",
        "outputId": "08f48407-feac-4c83-fc65-bf743e6e4107"
      },
      "outputs": [
        {
          "output_type": "stream",
          "name": "stdout",
          "text": [
            "Model: \"sequential\"\n",
            "_________________________________________________________________\n",
            " Layer (type)                Output Shape              Param #   \n",
            "=================================================================\n",
            " vgg16 (Functional)          (None, 7, 7, 512)         14714688  \n",
            "                                                                 \n",
            " flatten (Flatten)           (None, 25088)             0         \n",
            "                                                                 \n",
            " dense (Dense)               (None, 4096)              102764544 \n",
            "                                                                 \n",
            " dense_1 (Dense)             (None, 26)                106522    \n",
            "                                                                 \n",
            "=================================================================\n",
            "Total params: 117,585,754\n",
            "Trainable params: 117,585,754\n",
            "Non-trainable params: 0\n",
            "_________________________________________________________________\n"
          ]
        }
      ],
      "source": [
        "cascade_model_1a.summary()"
      ]
    },
    {
      "cell_type": "code",
      "execution_count": null,
      "metadata": {
        "colab": {
          "base_uri": "https://localhost:8080/"
        },
        "id": "ore-YaxajO7m",
        "outputId": "f14b906f-5bb5-4c33-e3b4-4372df69f73f"
      },
      "outputs": [
        {
          "output_type": "stream",
          "name": "stdout",
          "text": [
            "Epoch 1/10\n",
            "6/6 [==============================] - 20s 1s/step - loss: 45.8506 - accuracy: 0.0423\n",
            "Epoch 2/10\n",
            "6/6 [==============================] - 4s 606ms/step - loss: 5.4339 - accuracy: 0.0269\n",
            "Epoch 3/10\n",
            "6/6 [==============================] - 4s 598ms/step - loss: 3.2982 - accuracy: 0.0462\n",
            "Epoch 4/10\n",
            "6/6 [==============================] - 4s 601ms/step - loss: 3.2679 - accuracy: 0.0385\n",
            "Epoch 5/10\n",
            "6/6 [==============================] - 4s 594ms/step - loss: 3.2621 - accuracy: 0.0385\n",
            "Epoch 6/10\n",
            "6/6 [==============================] - 4s 598ms/step - loss: 3.2619 - accuracy: 0.0385\n",
            "Epoch 7/10\n",
            "6/6 [==============================] - 4s 605ms/step - loss: 3.2683 - accuracy: 0.0385\n",
            "Epoch 8/10\n",
            "6/6 [==============================] - 4s 613ms/step - loss: 3.2950 - accuracy: 0.0385\n",
            "Epoch 9/10\n",
            "6/6 [==============================] - 4s 603ms/step - loss: 3.2546 - accuracy: 0.0385\n",
            "Epoch 10/10\n",
            "6/6 [==============================] - 4s 605ms/step - loss: 3.2317 - accuracy: 0.0577\n"
          ]
        },
        {
          "output_type": "execute_result",
          "data": {
            "text/plain": [
              "<keras.callbacks.History at 0x7f3a001c8490>"
            ]
          },
          "metadata": {},
          "execution_count": 10
        }
      ],
      "source": [
        "cascade_model_1a.fit(x_train, y_train, batch_size=50, epochs=10)"
      ]
    },
    {
      "cell_type": "code",
      "source": [
        "# extract weights from all the layers in first model of first cascade\n",
        "\n",
        "weights_model_1a = []\n",
        "for layer in cascade_model_1a.layers:\n",
        "    weights = layer.get_weights()\n",
        "    weights_model_1a.append(weights)"
      ],
      "metadata": {
        "id": "a67ducIuaKOG"
      },
      "execution_count": null,
      "outputs": []
    },
    {
      "cell_type": "code",
      "source": [
        "# create a copy of the weight matrices from the first model in the first cascade series\n",
        "weight_list_copy = weights_model_1a"
      ],
      "metadata": {
        "id": "90llnt-NaMTe"
      },
      "execution_count": null,
      "outputs": []
    },
    {
      "cell_type": "code",
      "source": [
        "# train the second model VGG in the cascade with the weights set from the first model VGG\n",
        "# base model VGG2, Trained on ASL, Initialized with ASL weights\n",
        "\n",
        "IMG_SIZE = (224,224)\n",
        "\n",
        "base_model_vgg_1 = VGG16( \n",
        "    weights = 'imagenet',\n",
        "    include_top=False, \n",
        "    input_shape=(224,224,3)\n",
        ")\n",
        "\n",
        "for layer in base_model_vgg_1.layers:\n",
        "  layer.trainable = True\n",
        "\n",
        "## iterate through base model layer names:\n",
        "\n",
        "layer_count = 0\n",
        "for layer in base_model_vgg_1.layers:\n",
        "  if \"pool\" not in layer.name and \"input\" not in layer.name:\n",
        "    weights = weights_model_1a[0].pop(0)\n",
        "    bias = weights_model_1a[0].pop(0)\n",
        "\n",
        "    # set weights and biases for base model 1\n",
        "    base_model_vgg_1.layers[layer_count].set_weights([weights,bias])\n",
        "  layer_count += 1\n",
        "\n",
        "cascade_model_1b = get_model(base_model_vgg_1)"
      ],
      "metadata": {
        "id": "Ofp3uNWEaOLG"
      },
      "execution_count": null,
      "outputs": []
    },
    {
      "cell_type": "code",
      "source": [
        "cascade_model_1b.fit(x_train, y_train, batch_size=50, epochs=10)"
      ],
      "metadata": {
        "colab": {
          "base_uri": "https://localhost:8080/"
        },
        "id": "6kxg01jpaSuX",
        "outputId": "dfcd15a8-f6ab-434a-e946-254493039a7d"
      },
      "execution_count": null,
      "outputs": [
        {
          "output_type": "stream",
          "name": "stdout",
          "text": [
            "Epoch 1/10\n",
            "6/6 [==============================] - 5s 611ms/step - loss: 3.3636 - accuracy: 0.0423\n",
            "Epoch 2/10\n",
            "6/6 [==============================] - 4s 614ms/step - loss: 3.3562 - accuracy: 0.0462\n",
            "Epoch 3/10\n",
            "6/6 [==============================] - 4s 601ms/step - loss: 3.2620 - accuracy: 0.0385\n",
            "Epoch 4/10\n",
            "6/6 [==============================] - 4s 607ms/step - loss: 3.2608 - accuracy: 0.0385\n",
            "Epoch 5/10\n",
            "6/6 [==============================] - 4s 606ms/step - loss: 3.2608 - accuracy: 0.0385\n",
            "Epoch 6/10\n",
            "6/6 [==============================] - 4s 606ms/step - loss: 3.2605 - accuracy: 0.0385\n",
            "Epoch 7/10\n",
            "6/6 [==============================] - 4s 612ms/step - loss: 3.2608 - accuracy: 0.0346\n",
            "Epoch 8/10\n",
            "6/6 [==============================] - 4s 614ms/step - loss: 3.2857 - accuracy: 0.0308\n",
            "Epoch 9/10\n",
            "6/6 [==============================] - 4s 615ms/step - loss: 3.5090 - accuracy: 0.0462\n",
            "Epoch 10/10\n",
            "6/6 [==============================] - 4s 615ms/step - loss: 3.2757 - accuracy: 0.0346\n"
          ]
        },
        {
          "output_type": "execute_result",
          "data": {
            "text/plain": [
              "<keras.callbacks.History at 0x7f39ac407610>"
            ]
          },
          "metadata": {},
          "execution_count": 14
        }
      ]
    },
    {
      "cell_type": "code",
      "execution_count": null,
      "metadata": {
        "id": "w7kUZ2YN5-KO",
        "colab": {
          "base_uri": "https://localhost:8080/"
        },
        "outputId": "e91bf954-5566-4caa-b2db-7d6a605ef826"
      },
      "outputs": [
        {
          "output_type": "stream",
          "name": "stdout",
          "text": [
            "100\n"
          ]
        }
      ],
      "source": [
        "## preprocess test data\n",
        "\n",
        "import cv2\n",
        "import numpy\n",
        "import glob\n",
        "\n",
        "from keras.preprocessing import image\n",
        "from keras.applications.vgg16 import VGG16\n",
        "from keras.applications.vgg16 import preprocess_input\n",
        "from tensorflow.keras.utils import load_img, img_to_array\n",
        "\n",
        "path = glob.glob(\"/content/drive/MyDrive/NN DL Project/dataset/test1/*\")\n",
        "\n",
        "test_list = []\n",
        "test_labels = []\n",
        "for folder in path:\n",
        "  for f in glob.glob(folder+\"/*.JPG\"):\n",
        "    test_labels.append(folder[-1])\n",
        "    test_list.append(f)\n",
        "\n",
        "print(len(test_list))\n",
        "\n",
        "test_images = []     \n",
        "i = 0   \n",
        "for image in test_list:\n",
        "  i += 1\n",
        "  test_images.append(load_img(image,color_mode='rgb', target_size=(224, 224)))"
      ]
    },
    {
      "cell_type": "code",
      "source": [
        "# prepare x_test and y_test\n",
        "\n",
        "import tensorflow as tf\n",
        "test_data = []\n",
        "for i in range(len(test_images)):\n",
        "  img_data = tf.keras.utils.img_to_array(read_images[i])\n",
        "  # img_data = np.expand_dims(img_data, axis = 0)\n",
        "  img_data = preprocess_input(img_data)\n",
        "\n",
        "  test_data.append(img_data)\n",
        "\n",
        "x_test = numpy.asarray(test_data)\n",
        "\n",
        "y_test = test_labels\n",
        "# for i in range(len(test_labels)):\n",
        "#   y = ord(test_labels[i]) - 65\n",
        "#   y_test.append(y)\n",
        "\n",
        "y_test = tf.keras.utils.to_categorical(y_test, num_classes=10)"
      ],
      "metadata": {
        "id": "J9jiw9YXWEeB"
      },
      "execution_count": null,
      "outputs": []
    },
    {
      "cell_type": "code",
      "source": [
        "y_pred1 = cascade_model_1b.predict(x_test)"
      ],
      "metadata": {
        "colab": {
          "base_uri": "https://localhost:8080/"
        },
        "id": "mhHY4bwIafB-",
        "outputId": "793e9074-30f2-4013-d926-c51d4e470571"
      },
      "execution_count": null,
      "outputs": [
        {
          "output_type": "stream",
          "name": "stdout",
          "text": [
            "4/4 [==============================] - 1s 172ms/step\n"
          ]
        }
      ]
    },
    {
      "cell_type": "code",
      "execution_count": null,
      "metadata": {
        "id": "Hm0qpaNoA6el"
      },
      "outputs": [],
      "source": [
        "y_pred1_list = []\n",
        "for i in y_pred1:\n",
        "  k = max(i)\n",
        "  y_pred1_list.append(k)"
      ]
    },
    {
      "cell_type": "code",
      "execution_count": null,
      "metadata": {
        "id": "pZiFGKhd3BNH",
        "colab": {
          "base_uri": "https://localhost:8080/"
        },
        "outputId": "955f1934-5d0b-47fd-be3c-d5817ce20cb1"
      },
      "outputs": [
        {
          "output_type": "execute_result",
          "data": {
            "text/plain": [
              "[0.1851749,\n",
              " 0.17217396,\n",
              " 0.2089988,\n",
              " 0.21292609,\n",
              " 0.39742422,\n",
              " 0.27436674,\n",
              " 0.26757908,\n",
              " 0.21276996,\n",
              " 0.54312587,\n",
              " 0.20287111,\n",
              " 0.35555342,\n",
              " 0.25564474,\n",
              " 0.20901963,\n",
              " 0.3887244,\n",
              " 0.19350526,\n",
              " 0.24934381,\n",
              " 0.1866904,\n",
              " 0.27161524,\n",
              " 0.17730357,\n",
              " 0.25208995,\n",
              " 0.23090513,\n",
              " 0.2632667,\n",
              " 0.15933865,\n",
              " 0.3047819,\n",
              " 0.6668704,\n",
              " 0.1900828,\n",
              " 0.35628054,\n",
              " 0.43612736,\n",
              " 0.2661977,\n",
              " 0.13915962,\n",
              " 0.27405858,\n",
              " 0.39324462,\n",
              " 0.20072624,\n",
              " 0.33713907,\n",
              " 0.38760358,\n",
              " 0.22154927,\n",
              " 0.4141524,\n",
              " 0.25072998,\n",
              " 0.2521166,\n",
              " 0.2349138,\n",
              " 0.1804338,\n",
              " 0.31387252,\n",
              " 0.38665113,\n",
              " 0.30242318,\n",
              " 0.18443064,\n",
              " 0.3524338,\n",
              " 0.15318446,\n",
              " 0.3637301,\n",
              " 0.26628974,\n",
              " 0.12403971,\n",
              " 0.36944416,\n",
              " 0.34297755,\n",
              " 0.37755713,\n",
              " 0.3289057,\n",
              " 0.3888664,\n",
              " 0.39129147,\n",
              " 0.3203666,\n",
              " 0.35432285,\n",
              " 0.4479708,\n",
              " 0.14078669,\n",
              " 0.3112028,\n",
              " 0.26363614,\n",
              " 0.42418414,\n",
              " 0.2744469,\n",
              " 0.27292806,\n",
              " 0.3523057,\n",
              " 0.2618,\n",
              " 0.34952518,\n",
              " 0.29427308,\n",
              " 0.30382764,\n",
              " 0.15624379,\n",
              " 0.23382296,\n",
              " 0.19102727,\n",
              " 0.17275073,\n",
              " 0.24608453,\n",
              " 0.16601306,\n",
              " 0.20223981,\n",
              " 0.23867592,\n",
              " 0.18551531,\n",
              " 0.17964368,\n",
              " 0.23159955,\n",
              " 0.18018714,\n",
              " 0.21875745,\n",
              " 0.17056829,\n",
              " 0.600047,\n",
              " 0.15043202,\n",
              " 0.3469646,\n",
              " 0.25743687,\n",
              " 0.3084674,\n",
              " 0.2992729,\n",
              " 0.21815133,\n",
              " 0.16541776,\n",
              " 0.2540967,\n",
              " 0.18487489,\n",
              " 0.4052812,\n",
              " 0.32964614,\n",
              " 0.34857088,\n",
              " 0.3868108,\n",
              " 0.19599432,\n",
              " 0.22766785]"
            ]
          },
          "metadata": {},
          "execution_count": 24
        }
      ],
      "source": [
        "y_pred1_list"
      ]
    },
    {
      "cell_type": "code",
      "execution_count": null,
      "metadata": {
        "id": "-LCTnNyGJv5r"
      },
      "outputs": [],
      "source": [
        "# #[[[vgg_values]],[flatten],[Dense],[softmax]]\n",
        "# len(weights_list[0])  #----> len(VGG)\n",
        "# len(weights_list[0][0]) # First layer of VGG shape --> (3,3,3,64)  --- > channels R, G, B\n",
        "# #3 \n",
        "# len(weights_list[0][0][0]) # First layer of VGG shape --> (3,3,3,64)  --- > channel R, last index if it changes to 1 gives G, if its 2 it gives B"
      ]
    },
    {
      "cell_type": "code",
      "execution_count": null,
      "metadata": {
        "id": "J44tuDk9jgf0"
      },
      "outputs": [],
      "source": [
        "##### R values #####\n",
        "# []\n",
        "# 1st sublist[R] - 1st sublist = first row first column of all 64 filters\n",
        "# 1st sublist[R] - 2nd sublist = first row, second column of all 64 filters\n",
        "# 1st sublist[R]  - 3rd sublist = first row ,third column of all 64 filters"
      ]
    },
    {
      "cell_type": "code",
      "execution_count": null,
      "metadata": {
        "id": "ltn557x5pY1m"
      },
      "outputs": [],
      "source": [
        "# []\n",
        "# 2st sublist[R] - 1st sublist = second row first column of all 64 filters\n",
        "# 2st sublist[R] - 2nd sublist = second row, second column of all 64 filters\n",
        "# 2st sublist[R]  - 3rd sublist = second row ,third column of all 64 filters"
      ]
    },
    {
      "cell_type": "code",
      "execution_count": null,
      "metadata": {
        "id": "mej0Z5Qzp5I8"
      },
      "outputs": [],
      "source": [
        "# []\n",
        "# 3st sublist[R] - 1st sublist = third row first column of all 64 filters\n",
        "# 3st sublist[R] - 2nd sublist = third row, second column of all 64 filters\n",
        "# 3st sublist[R]  - 3rd sublist = third row ,third column of all 64 filters"
      ]
    },
    {
      "cell_type": "code",
      "execution_count": null,
      "metadata": {
        "id": "9lV_UyyDquGT"
      },
      "outputs": [],
      "source": [
        "# First row of the R channels filters \n",
        "# weights_list[0][0][0][0]"
      ]
    },
    {
      "cell_type": "code",
      "execution_count": null,
      "metadata": {
        "id": "4AC8-TV8EtEx"
      },
      "outputs": [],
      "source": [
        "# first sublist is R, second sublist is G and third sublist is B, \n",
        "# each sublist within shows 1st row, 2nd row and 3rd row\n",
        "\n",
        "# weights_1 = weights_list[0][0]\n",
        "# weights_1"
      ]
    },
    {
      "cell_type": "code",
      "execution_count": null,
      "metadata": {
        "id": "ExOe7jEIHiF-"
      },
      "outputs": [],
      "source": [
        "## model [0][0] - 1st layer weights      ## base_model_1 [0][0] - inputs\n",
        "## model [0][1] - 1st layer bias         ## base_model_1 [0][1] - 1st layer weights + bias,\n",
        "\n",
        "## model [0][2] - 2nd layer weights      ## base_model_1 [0][2] - 2nd layer weights + bias, 2,3\n",
        "## model [0][3] - 2nd layer bias         \n",
        "                                         ## base_model_1 [0][3] - maxpool\n",
        "\n",
        "## model [0][4] - 3rd layer weights      ## base_model_1 [0][4] - 3rd layer weights + bias, 4,5\n",
        "## model [0][5] - 3rd layer bias         \n",
        "\n",
        "## model [0][6] - 4th layer weights      ## base_model_1 [0][4] - 4th layer weights + bias, 6,7\n",
        "## model [0][7] - 4th layer bias \n",
        "\n",
        "## model [0][8] - 4th layer weights      ## base_model_1 [0][5] - 4th layer weights + bias, 8,9\n",
        "## model [0][9] - 4th layer bias "
      ]
    },
    {
      "cell_type": "code",
      "execution_count": null,
      "metadata": {
        "id": "TBlWET2a7p6z"
      },
      "outputs": [],
      "source": [
        "## base_model [0][0] - 1st layer weights      ## base_model_1 [0][0] - inputs\n",
        "## base_model [0][1] - 1st layer bias         ## base_model_1 [0][1] - 1st layer weights + bias, 0,1\n",
        "\n",
        "## base_model [0][2] - 2nd layer weights      ## base_model_1 [0][2] - 2nd layer weights + bias, 2,3\n",
        "## base_model [0][3] - 2nd layer bias         \n",
        "\n",
        "## base_model [0][4] - 3rd layer weights      ## base_model_1 [0][3] - 3rd layer weights + bias, 4,5\n",
        "## base_model [0][5] - 3rd layer bias         \n",
        "\n",
        "## base_model [0][6] - 4th layer weights      ## base_model_1 [0][4] - 4th layer weights + bias, 6,7\n",
        "## base_model [0][7] - 4th layer bias \n",
        "\n",
        "## base_model [0][8] - 4th layer weights      ## base_model_1 [0][5] - 4th layer weights + bias, 8,9\n",
        "## base_model [0][9] - 4th layer bias "
      ]
    },
    {
      "cell_type": "code",
      "execution_count": null,
      "metadata": {
        "id": "PslxjuzsB0uH"
      },
      "outputs": [],
      "source": [
        "## <<<<<<<<<<<<<<<<<<<<<<<<>>>>>>>>>>>>>>>>>>>>>>>>>>>"
      ]
    },
    {
      "cell_type": "code",
      "execution_count": null,
      "metadata": {
        "id": "4y3jMakC6tQl"
      },
      "outputs": [],
      "source": [
        "# test_model = VGG16(\n",
        "#     weights='imagenet', \n",
        "#     include_top=False, \n",
        "#     input_shape=(224,224,3)\n",
        "# )"
      ]
    },
    {
      "cell_type": "code",
      "execution_count": null,
      "metadata": {
        "id": "Q5b2JKjb8LOg"
      },
      "outputs": [],
      "source": [
        "# import numpy as np\n",
        "# import random\n",
        "# test_weights = np.random.rand(3,3,3,64)\n",
        "# test_bias = np.random.rand(64)"
      ]
    },
    {
      "cell_type": "code",
      "execution_count": null,
      "metadata": {
        "id": "J9K9J5Oh6mZw"
      },
      "outputs": [],
      "source": [
        "# test_weights"
      ]
    },
    {
      "cell_type": "code",
      "execution_count": null,
      "metadata": {
        "id": "FqZDLFMu-ybx"
      },
      "outputs": [],
      "source": [
        "# test_weights[:,:,:,0]"
      ]
    },
    {
      "cell_type": "code",
      "execution_count": null,
      "metadata": {
        "id": "pUxC7Hf_-GWg"
      },
      "outputs": [],
      "source": [
        "# layer = test_model.layers[1]\n",
        "# t_weights, t_bias = layer.get_weights()"
      ]
    },
    {
      "cell_type": "code",
      "execution_count": null,
      "metadata": {
        "id": "SAKrBLLP-bFf"
      },
      "outputs": [],
      "source": [
        "# test_model.layers[1].set_weights([test_weights,test_bias])"
      ]
    },
    {
      "cell_type": "code",
      "execution_count": null,
      "metadata": {
        "id": "Ir6h9Png_AME"
      },
      "outputs": [],
      "source": [
        "# layer = test_model.layers[1]\n",
        "# t1_weights, t1_bias = layer.get_weights()"
      ]
    },
    {
      "cell_type": "code",
      "execution_count": null,
      "metadata": {
        "id": "3kTIWSXi_hcW"
      },
      "outputs": [],
      "source": [
        "# t1_weights[:,:,:,0]"
      ]
    }
  ],
  "metadata": {
    "accelerator": "GPU",
    "colab": {
      "provenance": [],
      "include_colab_link": true
    },
    "gpuClass": "standard",
    "kernelspec": {
      "display_name": "Python 3",
      "name": "python3"
    },
    "language_info": {
      "name": "python"
    }
  },
  "nbformat": 4,
  "nbformat_minor": 0
}