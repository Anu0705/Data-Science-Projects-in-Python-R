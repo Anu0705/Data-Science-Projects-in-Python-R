{
  "cells": [
    {
      "cell_type": "markdown",
      "source": [
        "**CSCI 5922 : Neural Networks and Deep Learning**\n",
        "**Lab Assignment 1: Feedforward Neural Networks**"
      ],
      "metadata": {
        "id": "onb72zObxbZj"
      }
    },
    {
      "cell_type": "markdown",
      "source": [
        "1. Neural Network Hyperparameters"
      ],
      "metadata": {
        "id": "iZFSctC6xiqK"
      }
    },
    {
      "cell_type": "code",
      "source": [
        "import warnings\n",
        "warnings.filterwarnings('ignore')\n",
        "\n",
        "from google.colab import drive\n",
        "drive.mount('/content/drive')"
      ],
      "metadata": {
        "colab": {
          "base_uri": "https://localhost:8080/"
        },
        "id": "n49us2jYL2T-",
        "outputId": "51e15212-87c9-49ff-d7de-e4543a45797d"
      },
      "execution_count": null,
      "outputs": [
        {
          "output_type": "stream",
          "name": "stdout",
          "text": [
            "Drive already mounted at /content/drive; to attempt to forcibly remount, call drive.mount(\"/content/drive\", force_remount=True).\n"
          ]
        }
      ]
    },
    {
      "cell_type": "markdown",
      "source": [
        "Part 1 :Load datasets"
      ],
      "metadata": {
        "id": "tmcDLV_ZdpFr"
      }
    },
    {
      "cell_type": "code",
      "execution_count": null,
      "metadata": {
        "colab": {
          "base_uri": "https://localhost:8080/",
          "height": 424
        },
        "id": "gJr_9dXGpJ05",
        "outputId": "c603b390-986a-43fd-d9a3-03d979872eac"
      },
      "outputs": [
        {
          "output_type": "execute_result",
          "data": {
            "text/plain": [
              "     buying maintainance  doors persons luggage_capacity safety  \\\n",
              "0     vhigh        vhigh      2       2            small    low   \n",
              "1     vhigh        vhigh      2       2            small    med   \n",
              "2     vhigh        vhigh      2       2            small   high   \n",
              "3     vhigh        vhigh      2       2              med    low   \n",
              "4     vhigh        vhigh      2       2              med    med   \n",
              "...     ...          ...    ...     ...              ...    ...   \n",
              "1723    low          low  5more    more              med    med   \n",
              "1724    low          low  5more    more              med   high   \n",
              "1725    low          low  5more    more              big    low   \n",
              "1726    low          low  5more    more              big    med   \n",
              "1727    low          low  5more    more              big   high   \n",
              "\n",
              "     car_acceptability  \n",
              "0                unacc  \n",
              "1                unacc  \n",
              "2                unacc  \n",
              "3                unacc  \n",
              "4                unacc  \n",
              "...                ...  \n",
              "1723              good  \n",
              "1724             vgood  \n",
              "1725             unacc  \n",
              "1726              good  \n",
              "1727             vgood  \n",
              "\n",
              "[1728 rows x 7 columns]"
            ],
            "text/html": [
              "\n",
              "  <div id=\"df-09ad05a1-e1ee-4d7b-9724-d9b89c7a2c70\">\n",
              "    <div class=\"colab-df-container\">\n",
              "      <div>\n",
              "<style scoped>\n",
              "    .dataframe tbody tr th:only-of-type {\n",
              "        vertical-align: middle;\n",
              "    }\n",
              "\n",
              "    .dataframe tbody tr th {\n",
              "        vertical-align: top;\n",
              "    }\n",
              "\n",
              "    .dataframe thead th {\n",
              "        text-align: right;\n",
              "    }\n",
              "</style>\n",
              "<table border=\"1\" class=\"dataframe\">\n",
              "  <thead>\n",
              "    <tr style=\"text-align: right;\">\n",
              "      <th></th>\n",
              "      <th>buying</th>\n",
              "      <th>maintainance</th>\n",
              "      <th>doors</th>\n",
              "      <th>persons</th>\n",
              "      <th>luggage_capacity</th>\n",
              "      <th>safety</th>\n",
              "      <th>car_acceptability</th>\n",
              "    </tr>\n",
              "  </thead>\n",
              "  <tbody>\n",
              "    <tr>\n",
              "      <th>0</th>\n",
              "      <td>vhigh</td>\n",
              "      <td>vhigh</td>\n",
              "      <td>2</td>\n",
              "      <td>2</td>\n",
              "      <td>small</td>\n",
              "      <td>low</td>\n",
              "      <td>unacc</td>\n",
              "    </tr>\n",
              "    <tr>\n",
              "      <th>1</th>\n",
              "      <td>vhigh</td>\n",
              "      <td>vhigh</td>\n",
              "      <td>2</td>\n",
              "      <td>2</td>\n",
              "      <td>small</td>\n",
              "      <td>med</td>\n",
              "      <td>unacc</td>\n",
              "    </tr>\n",
              "    <tr>\n",
              "      <th>2</th>\n",
              "      <td>vhigh</td>\n",
              "      <td>vhigh</td>\n",
              "      <td>2</td>\n",
              "      <td>2</td>\n",
              "      <td>small</td>\n",
              "      <td>high</td>\n",
              "      <td>unacc</td>\n",
              "    </tr>\n",
              "    <tr>\n",
              "      <th>3</th>\n",
              "      <td>vhigh</td>\n",
              "      <td>vhigh</td>\n",
              "      <td>2</td>\n",
              "      <td>2</td>\n",
              "      <td>med</td>\n",
              "      <td>low</td>\n",
              "      <td>unacc</td>\n",
              "    </tr>\n",
              "    <tr>\n",
              "      <th>4</th>\n",
              "      <td>vhigh</td>\n",
              "      <td>vhigh</td>\n",
              "      <td>2</td>\n",
              "      <td>2</td>\n",
              "      <td>med</td>\n",
              "      <td>med</td>\n",
              "      <td>unacc</td>\n",
              "    </tr>\n",
              "    <tr>\n",
              "      <th>...</th>\n",
              "      <td>...</td>\n",
              "      <td>...</td>\n",
              "      <td>...</td>\n",
              "      <td>...</td>\n",
              "      <td>...</td>\n",
              "      <td>...</td>\n",
              "      <td>...</td>\n",
              "    </tr>\n",
              "    <tr>\n",
              "      <th>1723</th>\n",
              "      <td>low</td>\n",
              "      <td>low</td>\n",
              "      <td>5more</td>\n",
              "      <td>more</td>\n",
              "      <td>med</td>\n",
              "      <td>med</td>\n",
              "      <td>good</td>\n",
              "    </tr>\n",
              "    <tr>\n",
              "      <th>1724</th>\n",
              "      <td>low</td>\n",
              "      <td>low</td>\n",
              "      <td>5more</td>\n",
              "      <td>more</td>\n",
              "      <td>med</td>\n",
              "      <td>high</td>\n",
              "      <td>vgood</td>\n",
              "    </tr>\n",
              "    <tr>\n",
              "      <th>1725</th>\n",
              "      <td>low</td>\n",
              "      <td>low</td>\n",
              "      <td>5more</td>\n",
              "      <td>more</td>\n",
              "      <td>big</td>\n",
              "      <td>low</td>\n",
              "      <td>unacc</td>\n",
              "    </tr>\n",
              "    <tr>\n",
              "      <th>1726</th>\n",
              "      <td>low</td>\n",
              "      <td>low</td>\n",
              "      <td>5more</td>\n",
              "      <td>more</td>\n",
              "      <td>big</td>\n",
              "      <td>med</td>\n",
              "      <td>good</td>\n",
              "    </tr>\n",
              "    <tr>\n",
              "      <th>1727</th>\n",
              "      <td>low</td>\n",
              "      <td>low</td>\n",
              "      <td>5more</td>\n",
              "      <td>more</td>\n",
              "      <td>big</td>\n",
              "      <td>high</td>\n",
              "      <td>vgood</td>\n",
              "    </tr>\n",
              "  </tbody>\n",
              "</table>\n",
              "<p>1728 rows × 7 columns</p>\n",
              "</div>\n",
              "      <button class=\"colab-df-convert\" onclick=\"convertToInteractive('df-09ad05a1-e1ee-4d7b-9724-d9b89c7a2c70')\"\n",
              "              title=\"Convert this dataframe to an interactive table.\"\n",
              "              style=\"display:none;\">\n",
              "        \n",
              "  <svg xmlns=\"http://www.w3.org/2000/svg\" height=\"24px\"viewBox=\"0 0 24 24\"\n",
              "       width=\"24px\">\n",
              "    <path d=\"M0 0h24v24H0V0z\" fill=\"none\"/>\n",
              "    <path d=\"M18.56 5.44l.94 2.06.94-2.06 2.06-.94-2.06-.94-.94-2.06-.94 2.06-2.06.94zm-11 1L8.5 8.5l.94-2.06 2.06-.94-2.06-.94L8.5 2.5l-.94 2.06-2.06.94zm10 10l.94 2.06.94-2.06 2.06-.94-2.06-.94-.94-2.06-.94 2.06-2.06.94z\"/><path d=\"M17.41 7.96l-1.37-1.37c-.4-.4-.92-.59-1.43-.59-.52 0-1.04.2-1.43.59L10.3 9.45l-7.72 7.72c-.78.78-.78 2.05 0 2.83L4 21.41c.39.39.9.59 1.41.59.51 0 1.02-.2 1.41-.59l7.78-7.78 2.81-2.81c.8-.78.8-2.07 0-2.86zM5.41 20L4 18.59l7.72-7.72 1.47 1.35L5.41 20z\"/>\n",
              "  </svg>\n",
              "      </button>\n",
              "      \n",
              "  <style>\n",
              "    .colab-df-container {\n",
              "      display:flex;\n",
              "      flex-wrap:wrap;\n",
              "      gap: 12px;\n",
              "    }\n",
              "\n",
              "    .colab-df-convert {\n",
              "      background-color: #E8F0FE;\n",
              "      border: none;\n",
              "      border-radius: 50%;\n",
              "      cursor: pointer;\n",
              "      display: none;\n",
              "      fill: #1967D2;\n",
              "      height: 32px;\n",
              "      padding: 0 0 0 0;\n",
              "      width: 32px;\n",
              "    }\n",
              "\n",
              "    .colab-df-convert:hover {\n",
              "      background-color: #E2EBFA;\n",
              "      box-shadow: 0px 1px 2px rgba(60, 64, 67, 0.3), 0px 1px 3px 1px rgba(60, 64, 67, 0.15);\n",
              "      fill: #174EA6;\n",
              "    }\n",
              "\n",
              "    [theme=dark] .colab-df-convert {\n",
              "      background-color: #3B4455;\n",
              "      fill: #D2E3FC;\n",
              "    }\n",
              "\n",
              "    [theme=dark] .colab-df-convert:hover {\n",
              "      background-color: #434B5C;\n",
              "      box-shadow: 0px 1px 3px 1px rgba(0, 0, 0, 0.15);\n",
              "      filter: drop-shadow(0px 1px 2px rgba(0, 0, 0, 0.3));\n",
              "      fill: #FFFFFF;\n",
              "    }\n",
              "  </style>\n",
              "\n",
              "      <script>\n",
              "        const buttonEl =\n",
              "          document.querySelector('#df-09ad05a1-e1ee-4d7b-9724-d9b89c7a2c70 button.colab-df-convert');\n",
              "        buttonEl.style.display =\n",
              "          google.colab.kernel.accessAllowed ? 'block' : 'none';\n",
              "\n",
              "        async function convertToInteractive(key) {\n",
              "          const element = document.querySelector('#df-09ad05a1-e1ee-4d7b-9724-d9b89c7a2c70');\n",
              "          const dataTable =\n",
              "            await google.colab.kernel.invokeFunction('convertToInteractive',\n",
              "                                                     [key], {});\n",
              "          if (!dataTable) return;\n",
              "\n",
              "          const docLinkHtml = 'Like what you see? Visit the ' +\n",
              "            '<a target=\"_blank\" href=https://colab.research.google.com/notebooks/data_table.ipynb>data table notebook</a>'\n",
              "            + ' to learn more about interactive tables.';\n",
              "          element.innerHTML = '';\n",
              "          dataTable['output_type'] = 'display_data';\n",
              "          await google.colab.output.renderOutput(dataTable, element);\n",
              "          const docLink = document.createElement('div');\n",
              "          docLink.innerHTML = docLinkHtml;\n",
              "          element.appendChild(docLink);\n",
              "        }\n",
              "      </script>\n",
              "    </div>\n",
              "  </div>\n",
              "  "
            ]
          },
          "metadata": {},
          "execution_count": 89
        }
      ],
      "source": [
        "import warnings\n",
        "warnings.filterwarnings('ignore')\n",
        "\n",
        "import pandas as pd\n",
        "\n",
        "df = pd.read_excel(\"/content/drive/MyDrive/NN DL/car_evaluation.xlsx\")\n",
        "df"
      ]
    },
    {
      "cell_type": "markdown",
      "source": [
        "Dataset preprocessing\n",
        "Using one hot encoding to convert categories to numeric format*"
      ],
      "metadata": {
        "id": "sBeWghtMdydO"
      }
    },
    {
      "cell_type": "code",
      "source": [
        "import warnings\n",
        "warnings.filterwarnings('ignore')\n",
        "\n",
        "df1 = pd.get_dummies(data=df, columns=['buying','maintainance','doors','persons','luggage_capacity','safety'])\n",
        "\n",
        "# create numerical categories for the target variable\n",
        "\n",
        "def target_col(row):\n",
        "  if row['car_acceptability'] == \"unacc\":\n",
        "    return 0\n",
        "  elif row['car_acceptability'] == \"acc\":\n",
        "    return 1\n",
        "  elif row['car_acceptability'] == \"good\":\n",
        "    return 2\n",
        "  elif row['car_acceptability'] == \"vgood\":\n",
        "    return 3\n",
        "\n",
        "df1['car_target'] = df1.apply(target_col,axis=1)\n",
        "df1.drop(columns=['car_acceptability'], inplace=True)\n",
        "df1\n",
        "# standardization of data is not required, as all the features are tranformed into categories of 0's and 1's"
      ],
      "metadata": {
        "id": "Qvv8WF_YxvS6",
        "colab": {
          "base_uri": "https://localhost:8080/",
          "height": 488
        },
        "outputId": "d2bb80d4-51cd-4386-b9a1-28abb96ae7e9"
      },
      "execution_count": null,
      "outputs": [
        {
          "output_type": "execute_result",
          "data": {
            "text/plain": [
              "      buying_high  buying_low  buying_med  buying_vhigh  maintainance_high  \\\n",
              "0               0           0           0             1                  0   \n",
              "1               0           0           0             1                  0   \n",
              "2               0           0           0             1                  0   \n",
              "3               0           0           0             1                  0   \n",
              "4               0           0           0             1                  0   \n",
              "...           ...         ...         ...           ...                ...   \n",
              "1723            0           1           0             0                  0   \n",
              "1724            0           1           0             0                  0   \n",
              "1725            0           1           0             0                  0   \n",
              "1726            0           1           0             0                  0   \n",
              "1727            0           1           0             0                  0   \n",
              "\n",
              "      maintainance_low  maintainance_med  maintainance_vhigh  doors_2  \\\n",
              "0                    0                 0                   1        1   \n",
              "1                    0                 0                   1        1   \n",
              "2                    0                 0                   1        1   \n",
              "3                    0                 0                   1        1   \n",
              "4                    0                 0                   1        1   \n",
              "...                ...               ...                 ...      ...   \n",
              "1723                 1                 0                   0        0   \n",
              "1724                 1                 0                   0        0   \n",
              "1725                 1                 0                   0        0   \n",
              "1726                 1                 0                   0        0   \n",
              "1727                 1                 0                   0        0   \n",
              "\n",
              "      doors_3  ...  persons_2  persons_4  persons_more  luggage_capacity_big  \\\n",
              "0           0  ...          1          0             0                     0   \n",
              "1           0  ...          1          0             0                     0   \n",
              "2           0  ...          1          0             0                     0   \n",
              "3           0  ...          1          0             0                     0   \n",
              "4           0  ...          1          0             0                     0   \n",
              "...       ...  ...        ...        ...           ...                   ...   \n",
              "1723        0  ...          0          0             1                     0   \n",
              "1724        0  ...          0          0             1                     0   \n",
              "1725        0  ...          0          0             1                     1   \n",
              "1726        0  ...          0          0             1                     1   \n",
              "1727        0  ...          0          0             1                     1   \n",
              "\n",
              "      luggage_capacity_med  luggage_capacity_small  safety_high  safety_low  \\\n",
              "0                        0                       1            0           1   \n",
              "1                        0                       1            0           0   \n",
              "2                        0                       1            1           0   \n",
              "3                        1                       0            0           1   \n",
              "4                        1                       0            0           0   \n",
              "...                    ...                     ...          ...         ...   \n",
              "1723                     1                       0            0           0   \n",
              "1724                     1                       0            1           0   \n",
              "1725                     0                       0            0           1   \n",
              "1726                     0                       0            0           0   \n",
              "1727                     0                       0            1           0   \n",
              "\n",
              "      safety_med  car_target  \n",
              "0              0           0  \n",
              "1              1           0  \n",
              "2              0           0  \n",
              "3              0           0  \n",
              "4              1           0  \n",
              "...          ...         ...  \n",
              "1723           1           2  \n",
              "1724           0           3  \n",
              "1725           0           0  \n",
              "1726           1           2  \n",
              "1727           0           3  \n",
              "\n",
              "[1728 rows x 22 columns]"
            ],
            "text/html": [
              "\n",
              "  <div id=\"df-56c7ebb9-fd4f-477b-807a-f065a4379243\">\n",
              "    <div class=\"colab-df-container\">\n",
              "      <div>\n",
              "<style scoped>\n",
              "    .dataframe tbody tr th:only-of-type {\n",
              "        vertical-align: middle;\n",
              "    }\n",
              "\n",
              "    .dataframe tbody tr th {\n",
              "        vertical-align: top;\n",
              "    }\n",
              "\n",
              "    .dataframe thead th {\n",
              "        text-align: right;\n",
              "    }\n",
              "</style>\n",
              "<table border=\"1\" class=\"dataframe\">\n",
              "  <thead>\n",
              "    <tr style=\"text-align: right;\">\n",
              "      <th></th>\n",
              "      <th>buying_high</th>\n",
              "      <th>buying_low</th>\n",
              "      <th>buying_med</th>\n",
              "      <th>buying_vhigh</th>\n",
              "      <th>maintainance_high</th>\n",
              "      <th>maintainance_low</th>\n",
              "      <th>maintainance_med</th>\n",
              "      <th>maintainance_vhigh</th>\n",
              "      <th>doors_2</th>\n",
              "      <th>doors_3</th>\n",
              "      <th>...</th>\n",
              "      <th>persons_2</th>\n",
              "      <th>persons_4</th>\n",
              "      <th>persons_more</th>\n",
              "      <th>luggage_capacity_big</th>\n",
              "      <th>luggage_capacity_med</th>\n",
              "      <th>luggage_capacity_small</th>\n",
              "      <th>safety_high</th>\n",
              "      <th>safety_low</th>\n",
              "      <th>safety_med</th>\n",
              "      <th>car_target</th>\n",
              "    </tr>\n",
              "  </thead>\n",
              "  <tbody>\n",
              "    <tr>\n",
              "      <th>0</th>\n",
              "      <td>0</td>\n",
              "      <td>0</td>\n",
              "      <td>0</td>\n",
              "      <td>1</td>\n",
              "      <td>0</td>\n",
              "      <td>0</td>\n",
              "      <td>0</td>\n",
              "      <td>1</td>\n",
              "      <td>1</td>\n",
              "      <td>0</td>\n",
              "      <td>...</td>\n",
              "      <td>1</td>\n",
              "      <td>0</td>\n",
              "      <td>0</td>\n",
              "      <td>0</td>\n",
              "      <td>0</td>\n",
              "      <td>1</td>\n",
              "      <td>0</td>\n",
              "      <td>1</td>\n",
              "      <td>0</td>\n",
              "      <td>0</td>\n",
              "    </tr>\n",
              "    <tr>\n",
              "      <th>1</th>\n",
              "      <td>0</td>\n",
              "      <td>0</td>\n",
              "      <td>0</td>\n",
              "      <td>1</td>\n",
              "      <td>0</td>\n",
              "      <td>0</td>\n",
              "      <td>0</td>\n",
              "      <td>1</td>\n",
              "      <td>1</td>\n",
              "      <td>0</td>\n",
              "      <td>...</td>\n",
              "      <td>1</td>\n",
              "      <td>0</td>\n",
              "      <td>0</td>\n",
              "      <td>0</td>\n",
              "      <td>0</td>\n",
              "      <td>1</td>\n",
              "      <td>0</td>\n",
              "      <td>0</td>\n",
              "      <td>1</td>\n",
              "      <td>0</td>\n",
              "    </tr>\n",
              "    <tr>\n",
              "      <th>2</th>\n",
              "      <td>0</td>\n",
              "      <td>0</td>\n",
              "      <td>0</td>\n",
              "      <td>1</td>\n",
              "      <td>0</td>\n",
              "      <td>0</td>\n",
              "      <td>0</td>\n",
              "      <td>1</td>\n",
              "      <td>1</td>\n",
              "      <td>0</td>\n",
              "      <td>...</td>\n",
              "      <td>1</td>\n",
              "      <td>0</td>\n",
              "      <td>0</td>\n",
              "      <td>0</td>\n",
              "      <td>0</td>\n",
              "      <td>1</td>\n",
              "      <td>1</td>\n",
              "      <td>0</td>\n",
              "      <td>0</td>\n",
              "      <td>0</td>\n",
              "    </tr>\n",
              "    <tr>\n",
              "      <th>3</th>\n",
              "      <td>0</td>\n",
              "      <td>0</td>\n",
              "      <td>0</td>\n",
              "      <td>1</td>\n",
              "      <td>0</td>\n",
              "      <td>0</td>\n",
              "      <td>0</td>\n",
              "      <td>1</td>\n",
              "      <td>1</td>\n",
              "      <td>0</td>\n",
              "      <td>...</td>\n",
              "      <td>1</td>\n",
              "      <td>0</td>\n",
              "      <td>0</td>\n",
              "      <td>0</td>\n",
              "      <td>1</td>\n",
              "      <td>0</td>\n",
              "      <td>0</td>\n",
              "      <td>1</td>\n",
              "      <td>0</td>\n",
              "      <td>0</td>\n",
              "    </tr>\n",
              "    <tr>\n",
              "      <th>4</th>\n",
              "      <td>0</td>\n",
              "      <td>0</td>\n",
              "      <td>0</td>\n",
              "      <td>1</td>\n",
              "      <td>0</td>\n",
              "      <td>0</td>\n",
              "      <td>0</td>\n",
              "      <td>1</td>\n",
              "      <td>1</td>\n",
              "      <td>0</td>\n",
              "      <td>...</td>\n",
              "      <td>1</td>\n",
              "      <td>0</td>\n",
              "      <td>0</td>\n",
              "      <td>0</td>\n",
              "      <td>1</td>\n",
              "      <td>0</td>\n",
              "      <td>0</td>\n",
              "      <td>0</td>\n",
              "      <td>1</td>\n",
              "      <td>0</td>\n",
              "    </tr>\n",
              "    <tr>\n",
              "      <th>...</th>\n",
              "      <td>...</td>\n",
              "      <td>...</td>\n",
              "      <td>...</td>\n",
              "      <td>...</td>\n",
              "      <td>...</td>\n",
              "      <td>...</td>\n",
              "      <td>...</td>\n",
              "      <td>...</td>\n",
              "      <td>...</td>\n",
              "      <td>...</td>\n",
              "      <td>...</td>\n",
              "      <td>...</td>\n",
              "      <td>...</td>\n",
              "      <td>...</td>\n",
              "      <td>...</td>\n",
              "      <td>...</td>\n",
              "      <td>...</td>\n",
              "      <td>...</td>\n",
              "      <td>...</td>\n",
              "      <td>...</td>\n",
              "      <td>...</td>\n",
              "    </tr>\n",
              "    <tr>\n",
              "      <th>1723</th>\n",
              "      <td>0</td>\n",
              "      <td>1</td>\n",
              "      <td>0</td>\n",
              "      <td>0</td>\n",
              "      <td>0</td>\n",
              "      <td>1</td>\n",
              "      <td>0</td>\n",
              "      <td>0</td>\n",
              "      <td>0</td>\n",
              "      <td>0</td>\n",
              "      <td>...</td>\n",
              "      <td>0</td>\n",
              "      <td>0</td>\n",
              "      <td>1</td>\n",
              "      <td>0</td>\n",
              "      <td>1</td>\n",
              "      <td>0</td>\n",
              "      <td>0</td>\n",
              "      <td>0</td>\n",
              "      <td>1</td>\n",
              "      <td>2</td>\n",
              "    </tr>\n",
              "    <tr>\n",
              "      <th>1724</th>\n",
              "      <td>0</td>\n",
              "      <td>1</td>\n",
              "      <td>0</td>\n",
              "      <td>0</td>\n",
              "      <td>0</td>\n",
              "      <td>1</td>\n",
              "      <td>0</td>\n",
              "      <td>0</td>\n",
              "      <td>0</td>\n",
              "      <td>0</td>\n",
              "      <td>...</td>\n",
              "      <td>0</td>\n",
              "      <td>0</td>\n",
              "      <td>1</td>\n",
              "      <td>0</td>\n",
              "      <td>1</td>\n",
              "      <td>0</td>\n",
              "      <td>1</td>\n",
              "      <td>0</td>\n",
              "      <td>0</td>\n",
              "      <td>3</td>\n",
              "    </tr>\n",
              "    <tr>\n",
              "      <th>1725</th>\n",
              "      <td>0</td>\n",
              "      <td>1</td>\n",
              "      <td>0</td>\n",
              "      <td>0</td>\n",
              "      <td>0</td>\n",
              "      <td>1</td>\n",
              "      <td>0</td>\n",
              "      <td>0</td>\n",
              "      <td>0</td>\n",
              "      <td>0</td>\n",
              "      <td>...</td>\n",
              "      <td>0</td>\n",
              "      <td>0</td>\n",
              "      <td>1</td>\n",
              "      <td>1</td>\n",
              "      <td>0</td>\n",
              "      <td>0</td>\n",
              "      <td>0</td>\n",
              "      <td>1</td>\n",
              "      <td>0</td>\n",
              "      <td>0</td>\n",
              "    </tr>\n",
              "    <tr>\n",
              "      <th>1726</th>\n",
              "      <td>0</td>\n",
              "      <td>1</td>\n",
              "      <td>0</td>\n",
              "      <td>0</td>\n",
              "      <td>0</td>\n",
              "      <td>1</td>\n",
              "      <td>0</td>\n",
              "      <td>0</td>\n",
              "      <td>0</td>\n",
              "      <td>0</td>\n",
              "      <td>...</td>\n",
              "      <td>0</td>\n",
              "      <td>0</td>\n",
              "      <td>1</td>\n",
              "      <td>1</td>\n",
              "      <td>0</td>\n",
              "      <td>0</td>\n",
              "      <td>0</td>\n",
              "      <td>0</td>\n",
              "      <td>1</td>\n",
              "      <td>2</td>\n",
              "    </tr>\n",
              "    <tr>\n",
              "      <th>1727</th>\n",
              "      <td>0</td>\n",
              "      <td>1</td>\n",
              "      <td>0</td>\n",
              "      <td>0</td>\n",
              "      <td>0</td>\n",
              "      <td>1</td>\n",
              "      <td>0</td>\n",
              "      <td>0</td>\n",
              "      <td>0</td>\n",
              "      <td>0</td>\n",
              "      <td>...</td>\n",
              "      <td>0</td>\n",
              "      <td>0</td>\n",
              "      <td>1</td>\n",
              "      <td>1</td>\n",
              "      <td>0</td>\n",
              "      <td>0</td>\n",
              "      <td>1</td>\n",
              "      <td>0</td>\n",
              "      <td>0</td>\n",
              "      <td>3</td>\n",
              "    </tr>\n",
              "  </tbody>\n",
              "</table>\n",
              "<p>1728 rows × 22 columns</p>\n",
              "</div>\n",
              "      <button class=\"colab-df-convert\" onclick=\"convertToInteractive('df-56c7ebb9-fd4f-477b-807a-f065a4379243')\"\n",
              "              title=\"Convert this dataframe to an interactive table.\"\n",
              "              style=\"display:none;\">\n",
              "        \n",
              "  <svg xmlns=\"http://www.w3.org/2000/svg\" height=\"24px\"viewBox=\"0 0 24 24\"\n",
              "       width=\"24px\">\n",
              "    <path d=\"M0 0h24v24H0V0z\" fill=\"none\"/>\n",
              "    <path d=\"M18.56 5.44l.94 2.06.94-2.06 2.06-.94-2.06-.94-.94-2.06-.94 2.06-2.06.94zm-11 1L8.5 8.5l.94-2.06 2.06-.94-2.06-.94L8.5 2.5l-.94 2.06-2.06.94zm10 10l.94 2.06.94-2.06 2.06-.94-2.06-.94-.94-2.06-.94 2.06-2.06.94z\"/><path d=\"M17.41 7.96l-1.37-1.37c-.4-.4-.92-.59-1.43-.59-.52 0-1.04.2-1.43.59L10.3 9.45l-7.72 7.72c-.78.78-.78 2.05 0 2.83L4 21.41c.39.39.9.59 1.41.59.51 0 1.02-.2 1.41-.59l7.78-7.78 2.81-2.81c.8-.78.8-2.07 0-2.86zM5.41 20L4 18.59l7.72-7.72 1.47 1.35L5.41 20z\"/>\n",
              "  </svg>\n",
              "      </button>\n",
              "      \n",
              "  <style>\n",
              "    .colab-df-container {\n",
              "      display:flex;\n",
              "      flex-wrap:wrap;\n",
              "      gap: 12px;\n",
              "    }\n",
              "\n",
              "    .colab-df-convert {\n",
              "      background-color: #E8F0FE;\n",
              "      border: none;\n",
              "      border-radius: 50%;\n",
              "      cursor: pointer;\n",
              "      display: none;\n",
              "      fill: #1967D2;\n",
              "      height: 32px;\n",
              "      padding: 0 0 0 0;\n",
              "      width: 32px;\n",
              "    }\n",
              "\n",
              "    .colab-df-convert:hover {\n",
              "      background-color: #E2EBFA;\n",
              "      box-shadow: 0px 1px 2px rgba(60, 64, 67, 0.3), 0px 1px 3px 1px rgba(60, 64, 67, 0.15);\n",
              "      fill: #174EA6;\n",
              "    }\n",
              "\n",
              "    [theme=dark] .colab-df-convert {\n",
              "      background-color: #3B4455;\n",
              "      fill: #D2E3FC;\n",
              "    }\n",
              "\n",
              "    [theme=dark] .colab-df-convert:hover {\n",
              "      background-color: #434B5C;\n",
              "      box-shadow: 0px 1px 3px 1px rgba(0, 0, 0, 0.15);\n",
              "      filter: drop-shadow(0px 1px 2px rgba(0, 0, 0, 0.3));\n",
              "      fill: #FFFFFF;\n",
              "    }\n",
              "  </style>\n",
              "\n",
              "      <script>\n",
              "        const buttonEl =\n",
              "          document.querySelector('#df-56c7ebb9-fd4f-477b-807a-f065a4379243 button.colab-df-convert');\n",
              "        buttonEl.style.display =\n",
              "          google.colab.kernel.accessAllowed ? 'block' : 'none';\n",
              "\n",
              "        async function convertToInteractive(key) {\n",
              "          const element = document.querySelector('#df-56c7ebb9-fd4f-477b-807a-f065a4379243');\n",
              "          const dataTable =\n",
              "            await google.colab.kernel.invokeFunction('convertToInteractive',\n",
              "                                                     [key], {});\n",
              "          if (!dataTable) return;\n",
              "\n",
              "          const docLinkHtml = 'Like what you see? Visit the ' +\n",
              "            '<a target=\"_blank\" href=https://colab.research.google.com/notebooks/data_table.ipynb>data table notebook</a>'\n",
              "            + ' to learn more about interactive tables.';\n",
              "          element.innerHTML = '';\n",
              "          dataTable['output_type'] = 'display_data';\n",
              "          await google.colab.output.renderOutput(dataTable, element);\n",
              "          const docLink = document.createElement('div');\n",
              "          docLink.innerHTML = docLinkHtml;\n",
              "          element.appendChild(docLink);\n",
              "        }\n",
              "      </script>\n",
              "    </div>\n",
              "  </div>\n",
              "  "
            ]
          },
          "metadata": {},
          "execution_count": 90
        }
      ]
    },
    {
      "cell_type": "markdown",
      "source": [
        "Part 2: Create train and test split of 70/30"
      ],
      "metadata": {
        "id": "8MmDYU8zd2wS"
      }
    },
    {
      "cell_type": "code",
      "source": [
        "import warnings\n",
        "warnings.filterwarnings('ignore')\n",
        "\n",
        "X = df1[['buying_high', 'buying_low', 'buying_med', 'buying_vhigh',\n",
        "       'maintainance_high', 'maintainance_low', 'maintainance_med',\n",
        "       'maintainance_vhigh', 'doors_2', 'doors_3', 'doors_4', 'doors_5more',\n",
        "       'persons_2', 'persons_4', 'persons_more', 'luggage_capacity_big',\n",
        "       'luggage_capacity_med', 'luggage_capacity_small', 'safety_high',\n",
        "       'safety_low', 'safety_med']]\n",
        "y = df1[['car_target']]\n",
        "\n",
        "from sklearn.model_selection import train_test_split\n",
        "\n",
        "X_train, X_test, y_train, y_test = train_test_split(X, y, test_size=0.30, random_state=42)"
      ],
      "metadata": {
        "id": "x-ottE0l4R8p"
      },
      "execution_count": null,
      "outputs": []
    },
    {
      "cell_type": "markdown",
      "source": [
        "Part 3: Train NN (MLP) with hidden layers = 2, 3, 4 and\n",
        "three different activation functions sigmoid, tanh and relu"
      ],
      "metadata": {
        "id": "g3S_7B-gd6Ei"
      }
    },
    {
      "cell_type": "code",
      "source": [
        "import warnings\n",
        "warnings.filterwarnings('ignore')\n",
        "\n",
        "from sklearn.neural_network import MLPClassifier\n",
        "\n",
        "def mlp_func(layer,iter,batch,solver,activation,x,y):\n",
        "  mlp = MLPClassifier(hidden_layer_sizes=layer, max_iter = iter, batch_size = batch, solver = solver ,activation=activation,random_state=1)\n",
        "  mlp.fit(x,y)\n",
        "  l = mlp.n_layers_\n",
        "  a = mlp.activation\n",
        "  loss = mlp.loss_\n",
        "  return mlp,l,a,loss\n",
        "\n",
        "mlp1,l1,a1,loss1 = mlp_func([4,4],100,10,'adam','logistic',X_train,y_train)\n",
        "mlp2,l2,a2,loss2 =  mlp_func([4,4],100,10,'adam','tanh',X_train,y_train)\n",
        "mlp3,l3,a3,loss3 =  mlp_func([4,4],100,10,'adam','relu',X_train,y_train)\n",
        "\n",
        "mlp4,l4,a4,loss4 = mlp_func([4,4,4],100,10,'adam','logistic',X_train,y_train)\n",
        "mlp5,l5,a5,loss5 =  mlp_func([4,4,4],100,10,'adam','tanh',X_train,y_train)\n",
        "mlp6,l6,a6,loss6 =  mlp_func([4,4,4],100,10,'adam','relu',X_train,y_train)\n",
        "\n",
        "mlp7,l7,a7,loss7 = mlp_func([4,4,4,4],100,10,'adam','logistic',X_train,y_train)\n",
        "mlp8,l8,a8,loss8 =  mlp_func([4,4,4,4],100,10,'adam','tanh',X_train,y_train)\n",
        "mlp9,l9,a9,loss9 =  mlp_func([4,4,4,4],100,10,'adam','relu',X_train,y_train)\n"
      ],
      "metadata": {
        "id": "0fo3LUEzMlCc"
      },
      "execution_count": null,
      "outputs": []
    },
    {
      "cell_type": "markdown",
      "source": [
        "Part 4: Confusion Matrix and Accuracy"
      ],
      "metadata": {
        "id": "xvQUGMF_d_ns"
      }
    },
    {
      "cell_type": "code",
      "source": [
        "import warnings\n",
        "warnings.filterwarnings('ignore')\n",
        "# Accuracy\n",
        "from sklearn import metrics\n",
        "def eval_metrics(x,y,mlp):\n",
        "  y_predicted = mlp.predict(x)\n",
        "  metric = metrics.classification_report(y, y_predicted)\n",
        "  return metric"
      ],
      "metadata": {
        "id": "6-jaBZ_pQDmt"
      },
      "execution_count": null,
      "outputs": []
    },
    {
      "cell_type": "code",
      "source": [
        "import warnings\n",
        "warnings.filterwarnings('ignore')\n",
        "print(\"Number of hidden Layers is : 2 and Activation Function is :\",a1)\n",
        "y_pred1 = eval_metrics(X_test,y_test,mlp1)\n",
        "print(y_pred1)"
      ],
      "metadata": {
        "colab": {
          "base_uri": "https://localhost:8080/"
        },
        "id": "GUEfqn4wmGTj",
        "outputId": "8c92ea88-559b-4271-c8d1-d1b4302de182"
      },
      "execution_count": null,
      "outputs": [
        {
          "output_type": "stream",
          "name": "stdout",
          "text": [
            "Number of hidden Layers is : 2 and Activation Function is : logistic\n",
            "              precision    recall  f1-score   support\n",
            "\n",
            "           0       0.98      0.97      0.98       358\n",
            "           1       0.70      0.93      0.80       118\n",
            "           2       0.00      0.00      0.00        19\n",
            "           3       0.00      0.00      0.00        24\n",
            "\n",
            "    accuracy                           0.88       519\n",
            "   macro avg       0.42      0.48      0.44       519\n",
            "weighted avg       0.83      0.88      0.86       519\n",
            "\n"
          ]
        }
      ]
    },
    {
      "cell_type": "code",
      "source": [
        "import warnings\n",
        "warnings.filterwarnings('ignore')\n",
        "print(\"Number of hidden Layers is : 2 and Activation Function is :\",a2)\n",
        "y_pred2 = eval_metrics(X_test,y_test,mlp2)\n",
        "print(y_pred2)"
      ],
      "metadata": {
        "colab": {
          "base_uri": "https://localhost:8080/"
        },
        "id": "IBilrrdEkuVK",
        "outputId": "07e16fb4-86cd-47b1-d112-d28fe71e5876"
      },
      "execution_count": null,
      "outputs": [
        {
          "output_type": "stream",
          "name": "stdout",
          "text": [
            "Number of hidden Layers is : 2 and Activation Function is : tanh\n",
            "              precision    recall  f1-score   support\n",
            "\n",
            "           0       0.98      0.98      0.98       358\n",
            "           1       0.92      0.90      0.91       118\n",
            "           2       0.76      0.84      0.80        19\n",
            "           3       0.88      0.96      0.92        24\n",
            "\n",
            "    accuracy                           0.96       519\n",
            "   macro avg       0.89      0.92      0.90       519\n",
            "weighted avg       0.96      0.96      0.96       519\n",
            "\n"
          ]
        }
      ]
    },
    {
      "cell_type": "code",
      "source": [
        "import warnings\n",
        "warnings.filterwarnings('ignore')\n",
        "print(\"Number of hidden Layers is : 2 and Activation Function is :\",a3)\n",
        "y_pred3 = eval_metrics(X_test,y_test,mlp3)\n",
        "print(y_pred3)"
      ],
      "metadata": {
        "colab": {
          "base_uri": "https://localhost:8080/"
        },
        "id": "dnAQIY7VkxHS",
        "outputId": "f84389e9-709d-4654-a205-20dada0383aa"
      },
      "execution_count": null,
      "outputs": [
        {
          "output_type": "stream",
          "name": "stdout",
          "text": [
            "Number of hidden Layers is : 2 and Activation Function is : relu\n",
            "              precision    recall  f1-score   support\n",
            "\n",
            "           0       0.98      0.97      0.97       358\n",
            "           1       0.89      0.90      0.89       118\n",
            "           2       0.75      0.79      0.77        19\n",
            "           3       0.88      0.96      0.92        24\n",
            "\n",
            "    accuracy                           0.95       519\n",
            "   macro avg       0.88      0.90      0.89       519\n",
            "weighted avg       0.95      0.95      0.95       519\n",
            "\n"
          ]
        }
      ]
    },
    {
      "cell_type": "code",
      "source": [
        "import warnings\n",
        "warnings.filterwarnings('ignore')\n",
        "print(\"Number of hidden Layers is : 3 and Activation Function is :\",a4)\n",
        "y_pred4 = eval_metrics(X_test,y_test,mlp4)\n",
        "print(y_pred4)"
      ],
      "metadata": {
        "colab": {
          "base_uri": "https://localhost:8080/"
        },
        "id": "418pDqkRk31Z",
        "outputId": "d906510c-97ac-4c45-8f6f-db689c38a834"
      },
      "execution_count": null,
      "outputs": [
        {
          "output_type": "stream",
          "name": "stdout",
          "text": [
            "Number of hidden Layers is : 3 and Activation Function is : logistic\n",
            "              precision    recall  f1-score   support\n",
            "\n",
            "           0       0.96      0.98      0.97       358\n",
            "           1       0.72      0.87      0.79       118\n",
            "           2       0.00      0.00      0.00        19\n",
            "           3       0.00      0.00      0.00        24\n",
            "\n",
            "    accuracy                           0.87       519\n",
            "   macro avg       0.42      0.46      0.44       519\n",
            "weighted avg       0.83      0.87      0.85       519\n",
            "\n"
          ]
        }
      ]
    },
    {
      "cell_type": "code",
      "source": [
        "import warnings\n",
        "warnings.filterwarnings('ignore')\n",
        "print(\"Number of hidden Layers is : 3 and Activation Function is :\",a5)\n",
        "y_pred5 = eval_metrics(X_test,y_test,mlp5)\n",
        "print(y_pred5)"
      ],
      "metadata": {
        "colab": {
          "base_uri": "https://localhost:8080/"
        },
        "id": "x4Xrx-7Lk8er",
        "outputId": "2a6eaab8-e406-455e-e103-a036f43ca4b0"
      },
      "execution_count": null,
      "outputs": [
        {
          "output_type": "stream",
          "name": "stdout",
          "text": [
            "Number of hidden Layers is : 3 and Activation Function is : tanh\n",
            "              precision    recall  f1-score   support\n",
            "\n",
            "           0       0.98      0.99      0.98       358\n",
            "           1       0.95      0.85      0.90       118\n",
            "           2       0.63      0.89      0.74        19\n",
            "           3       0.88      0.92      0.90        24\n",
            "\n",
            "    accuracy                           0.95       519\n",
            "   macro avg       0.86      0.91      0.88       519\n",
            "weighted avg       0.95      0.95      0.95       519\n",
            "\n"
          ]
        }
      ]
    },
    {
      "cell_type": "code",
      "source": [
        "import warnings\n",
        "warnings.filterwarnings('ignore')\n",
        "print(\"Number of hidden Layers is : 3 and Activation Function is :\",a6)\n",
        "y_pred6 = eval_metrics(X_test,y_test,mlp6)\n",
        "print(y_pred6)"
      ],
      "metadata": {
        "colab": {
          "base_uri": "https://localhost:8080/"
        },
        "id": "HxZx7HpRk-nh",
        "outputId": "eb342182-a6df-4991-db7e-a5dcddb13a10"
      },
      "execution_count": null,
      "outputs": [
        {
          "output_type": "stream",
          "name": "stdout",
          "text": [
            "Number of hidden Layers is : 3 and Activation Function is : relu\n",
            "              precision    recall  f1-score   support\n",
            "\n",
            "           0       0.98      0.99      0.99       358\n",
            "           1       0.97      0.92      0.94       118\n",
            "           2       0.76      0.84      0.80        19\n",
            "           3       0.88      0.92      0.90        24\n",
            "\n",
            "    accuracy                           0.97       519\n",
            "   macro avg       0.90      0.92      0.91       519\n",
            "weighted avg       0.97      0.97      0.97       519\n",
            "\n"
          ]
        }
      ]
    },
    {
      "cell_type": "code",
      "source": [
        "import warnings\n",
        "warnings.filterwarnings('ignore')\n",
        "print(\"Number of hidden Layers is : 4 and Activation Function is :\",a7)\n",
        "y_pred7 = eval_metrics(X_test,y_test,mlp7)\n",
        "print(y_pred7)"
      ],
      "metadata": {
        "colab": {
          "base_uri": "https://localhost:8080/"
        },
        "id": "dZmlVPMxlChx",
        "outputId": "5f94b0cd-b4d9-400a-a8de-dca99ec0dd96"
      },
      "execution_count": null,
      "outputs": [
        {
          "output_type": "stream",
          "name": "stdout",
          "text": [
            "Number of hidden Layers is : 4 and Activation Function is : logistic\n",
            "              precision    recall  f1-score   support\n",
            "\n",
            "           0       0.99      0.96      0.97       358\n",
            "           1       0.67      0.96      0.79       118\n",
            "           2       0.00      0.00      0.00        19\n",
            "           3       0.00      0.00      0.00        24\n",
            "\n",
            "    accuracy                           0.88       519\n",
            "   macro avg       0.41      0.48      0.44       519\n",
            "weighted avg       0.83      0.88      0.85       519\n",
            "\n"
          ]
        }
      ]
    },
    {
      "cell_type": "code",
      "source": [
        "import warnings\n",
        "warnings.filterwarnings('ignore')\n",
        "print(\"Number of hidden Layers is : 4 and Activation Function is :\",a8)\n",
        "y_pred8 = eval_metrics(X_test,y_test,mlp8)\n",
        "print(y_pred8)"
      ],
      "metadata": {
        "colab": {
          "base_uri": "https://localhost:8080/"
        },
        "id": "BEFoMDJVlH8p",
        "outputId": "7f34d1cb-ec22-4128-b1e9-370140705051"
      },
      "execution_count": null,
      "outputs": [
        {
          "output_type": "stream",
          "name": "stdout",
          "text": [
            "Number of hidden Layers is : 4 and Activation Function is : tanh\n",
            "              precision    recall  f1-score   support\n",
            "\n",
            "           0       0.99      0.99      0.99       358\n",
            "           1       0.94      0.89      0.91       118\n",
            "           2       0.38      0.95      0.54        19\n",
            "           3       1.00      0.12      0.22        24\n",
            "\n",
            "    accuracy                           0.92       519\n",
            "   macro avg       0.83      0.74      0.67       519\n",
            "weighted avg       0.96      0.92      0.92       519\n",
            "\n"
          ]
        }
      ]
    },
    {
      "cell_type": "code",
      "source": [
        "import warnings\n",
        "warnings.filterwarnings('ignore')\n",
        "print(\"Number of hidden Layers is : 4 and Activation Function is :\",a9)\n",
        "y_pred9 = eval_metrics(X_test,y_test,mlp9)\n",
        "print(y_pred9)\n"
      ],
      "metadata": {
        "colab": {
          "base_uri": "https://localhost:8080/"
        },
        "id": "zWLfIgbTlZC6",
        "outputId": "3b5e726e-bbd5-4670-b646-d2f38e0c9da3"
      },
      "execution_count": null,
      "outputs": [
        {
          "output_type": "stream",
          "name": "stdout",
          "text": [
            "Number of hidden Layers is : 4 and Activation Function is : relu\n",
            "              precision    recall  f1-score   support\n",
            "\n",
            "           0       0.69      1.00      0.82       358\n",
            "           1       0.00      0.00      0.00       118\n",
            "           2       0.00      0.00      0.00        19\n",
            "           3       0.00      0.00      0.00        24\n",
            "\n",
            "    accuracy                           0.69       519\n",
            "   macro avg       0.17      0.25      0.20       519\n",
            "weighted avg       0.48      0.69      0.56       519\n",
            "\n"
          ]
        }
      ]
    },
    {
      "cell_type": "markdown",
      "source": [
        "Part 4 : Plot of Confusion Matrix"
      ],
      "metadata": {
        "id": "VFmnNhNGeE0z"
      }
    },
    {
      "cell_type": "code",
      "source": [
        "import warnings\n",
        "warnings.filterwarnings('ignore')\n",
        "import seaborn as sns\n",
        "import matplotlib.pyplot as plt\n",
        "from sklearn.metrics import plot_confusion_matrix\n",
        "classifiers = [mlp1,mlp2,mlp3,mlp4,mlp5,mlp6,mlp7,mlp8,mlp9]\n",
        "fig, axes = plt.subplots(nrows=3, ncols=3, figsize=(15,10))\n",
        "for i, ax in zip(classifiers, axes.flatten()):\n",
        "    plot_confusion_matrix(i,X_test,y_test,ax=ax,cmap='viridis')\n",
        "plt.tight_layout()\n",
        "fig.text(0.08, 0.005, 'Activation Function - sigmoid', ha='left')\n",
        "fig.text(0.04, 0.05, 'Layers is 2', va='bottom', rotation='vertical')\n",
        "fig.suptitle('Plot of Confusion Matrix, No. of hidden layers vs Activation Function',y=1.05)\n",
        "plt.show()\n"
      ],
      "metadata": {
        "colab": {
          "base_uri": "https://localhost:8080/",
          "height": 785
        },
        "id": "wG-H8himTBQp",
        "outputId": "00b6043b-4104-4af5-aa48-4c31606fe175"
      },
      "execution_count": null,
      "outputs": [
        {
          "output_type": "display_data",
          "data": {
            "text/plain": [
              "<Figure size 1080x720 with 18 Axes>"
            ],
            "image/png": "[encoded data removed]"
          },
          "metadata": {
            "needs_background": "light"
          }
        }
      ]
    },
    {
      "cell_type": "markdown",
      "source": [
        "2. Impact of Training Duration and Training Data"
      ],
      "metadata": {
        "id": "mJOIzskDuY-g"
      }
    },
    {
      "cell_type": "markdown",
      "source": [
        "Part 1: Load datasets"
      ],
      "metadata": {
        "id": "GgJV5AAcpr05"
      }
    },
    {
      "cell_type": "code",
      "source": [
        "import warnings\n",
        "warnings.filterwarnings('ignore')\n",
        "\n",
        "import pandas as pd\n",
        "\n",
        "df = pd.read_excel(\"/content/drive/MyDrive/NN DL/car_evaluation.xlsx\")"
      ],
      "metadata": {
        "id": "p8Gayucfua4l"
      },
      "execution_count": null,
      "outputs": []
    },
    {
      "cell_type": "code",
      "source": [
        "import warnings\n",
        "warnings.filterwarnings('ignore')\n",
        "\n",
        "# Dataset preprocessing using one hot encoding to convert categories to numeric format\n",
        "\n",
        "df1 = pd.get_dummies(data=df, columns=['buying','maintainance','doors','persons','luggage_capacity','safety'])\n",
        "\n",
        "# create numerical categories for the target variable\n",
        "# standardization of data is not required,\n",
        "# as all the features are tranformed into categories of 0's and 1's\n",
        "\n",
        "def target_col(row):\n",
        "  if row['car_acceptability'] == \"unacc\":\n",
        "    return 0\n",
        "  elif row['car_acceptability'] == \"acc\":\n",
        "    return 1\n",
        "  elif row['car_acceptability'] == \"good\":\n",
        "    return 2\n",
        "  elif row['car_acceptability'] == \"vgood\":\n",
        "    return 3\n",
        "\n",
        "df1['car_target'] = df1.apply(target_col,axis=1)\n",
        "df1.drop(columns=['car_acceptability'], inplace=True)\n",
        "\n"
      ],
      "metadata": {
        "id": "ocVYa8YVusb-"
      },
      "execution_count": null,
      "outputs": []
    },
    {
      "cell_type": "markdown",
      "source": [
        "Part 2: Create train and test split - 70/30"
      ],
      "metadata": {
        "id": "wwJkqODueUEC"
      }
    },
    {
      "cell_type": "code",
      "source": [
        "import warnings\n",
        "warnings.filterwarnings('ignore')\n",
        "\n",
        "X = df1[['buying_high', 'buying_low', 'buying_med', 'buying_vhigh',\n",
        "       'maintainance_high', 'maintainance_low', 'maintainance_med',\n",
        "       'maintainance_vhigh', 'doors_2', 'doors_3', 'doors_4', 'doors_5more',\n",
        "       'persons_2', 'persons_4', 'persons_more', 'luggage_capacity_big',\n",
        "       'luggage_capacity_med', 'luggage_capacity_small', 'safety_high',\n",
        "       'safety_low', 'safety_med']]\n",
        "y = df1[['car_target']]\n",
        "\n",
        "from sklearn.model_selection import train_test_split\n",
        "\n",
        "X_train, X_test, y_train, y_test = train_test_split(X, y, test_size=0.30, random_state=42)"
      ],
      "metadata": {
        "id": "HlW8Cp0DvYp9"
      },
      "execution_count": null,
      "outputs": []
    },
    {
      "cell_type": "markdown",
      "source": [
        "Part 3 : Train Neural Network"
      ],
      "metadata": {
        "id": "sR1ph3SppdEu"
      }
    },
    {
      "cell_type": "code",
      "source": [
        "import warnings\n",
        "warnings.filterwarnings('ignore')\n",
        "\n",
        "from sklearn.model_selection import train_test_split\n",
        "from sklearn.neural_network import MLPClassifier\n",
        "\n",
        "\n",
        "def nn_train(layer,iter,batch,solver,activation,x,y,x1,y1):\n",
        "  accuracy = []\n",
        "  no_epochs = []\n",
        "  for i in range(1,iter+1,10):\n",
        "\n",
        "    mlp = MLPClassifier(hidden_layer_sizes=layer, max_iter = i, batch_size = batch, solver = solver,activation=activation,random_state=1)\n",
        "    mlp.fit(x,y)\n",
        "    mlp.predict(x1)\n",
        "    s = mlp.score(x1,y1)\n",
        "    n = mlp.n_layers_\n",
        "    a = mlp.activation\n",
        "    accuracy.append(s)\n",
        "    no_epochs.append(i)\n",
        "\n",
        "  return accuracy,n,a,no_epochs\n",
        "\n",
        "X_train20, X_test20, y_train20, y_test20 = train_test_split(X_train, y_train, test_size=0.80, random_state=42)\n",
        "mlp_1_acc,n_1,a_1,e_1 = nn_train([2,3,3],100,10,'adam','relu',X_train20,y_train20,X_test,y_test)\n",
        "\n",
        "X_train40, X_test40, y_train40, y_test40 = train_test_split(X_train, y_train, test_size=0.60, random_state=42)\n",
        "mlp_2_acc,n_2,a_2,e_2 = nn_train([2,3,3],100,10,'adam','relu',X_train40,y_train40,X_test,y_test)\n",
        "\n",
        "X_train60, X_test80, y_train60, y_test80 = train_test_split(X_train, y_train, test_size=0.40, random_state=42)\n",
        "mlp_3_acc,n_3,a_3,e_3 = nn_train([2,3,3],100,10,'adam','relu',X_train60,y_train60,X_test,y_test)\n",
        "\n",
        "X_train80, X_test80, y_train80, y_test80 = train_test_split(X_train, y_train, test_size=0.20, random_state=42)\n",
        "mlp_4_acc,n_4,a_4,e_4 = nn_train([2,3,3],100,10,'adam','relu',X_train80,y_train80,X_test,y_test)\n",
        "\n",
        "X_train100, X_test100, y_train100, y_test100 = X_train, X_test, y_train, y_test\n",
        "mlp_5_acc,n_5,a_5,e_5 = nn_train([2,3,3],100,10,'adam','relu',X_train100,y_train100,X_test,y_test)\n"
      ],
      "metadata": {
        "id": "ReguQJ_-FJT3"
      },
      "execution_count": null,
      "outputs": []
    },
    {
      "cell_type": "markdown",
      "source": [
        "Part 4 : Model Evaluation on test set"
      ],
      "metadata": {
        "id": "9lmNTPw_ed2y"
      }
    },
    {
      "cell_type": "code",
      "source": [
        "import warnings\n",
        "warnings.filterwarnings('ignore')\n",
        "\n",
        "total_accuracy = [mlp_1_acc,mlp_2_acc,mlp_3_acc,mlp_4_acc,mlp_5_acc]\n",
        "total_epoch = [e_1, e_2, e_3, e_4, e_5]\n",
        "\n",
        "labels = [\"X_train20\", \"X_train40\",\"X_train60\", \"X_train80\", \"X_train100\"]\n",
        "for i in range(len(total_accuracy)):\n",
        "  plt.plot(total_epoch[i], total_accuracy[i], label = labels[i])\n",
        "\n",
        "plt.xlabel(\"Num of epochs\")\n",
        "plt.ylabel(\"Accuracy\")\n",
        "plt.title(\"Impact of number of training sets on test set\")\n",
        "plt.legend()\n",
        "plt.show()"
      ],
      "metadata": {
        "colab": {
          "base_uri": "https://localhost:8080/",
          "height": 295
        },
        "id": "hMJf001dJ9Hm",
        "outputId": "1f751e83-e2e8-4658-bbb9-dc929492eb98"
      },
      "execution_count": null,
      "outputs": [
        {
          "output_type": "display_data",
          "data": {
            "text/plain": [
              "<Figure size 432x288 with 1 Axes>"
            ],
            "image/png": "[encoded data removed]"
          },
          "metadata": {
            "needs_background": "light"
          }
        }
      ]
    }
  ],
  "metadata": {
    "colab": {
      "provenance": []
    },
    "kernelspec": {
      "display_name": "Python 3",
      "name": "python3"
    },
    "accelerator": "GPU",
    "gpuClass": "standard"
  },
  "nbformat": 4,
  "nbformat_minor": 0
}